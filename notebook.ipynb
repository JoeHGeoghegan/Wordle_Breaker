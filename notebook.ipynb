{
 "cells": [
  {
   "cell_type": "code",
   "execution_count": null,
   "metadata": {},
   "outputs": [],
   "source": [
    "\"\"\"\n",
    "Made by Joe Geoghegan\n",
    "-Work in Progress\n",
    "\"\"\"\n",
    "import pandas as pd"
   ]
  },
  {
   "cell_type": "code",
   "execution_count": null,
   "metadata": {},
   "outputs": [],
   "source": [
    "# Set dictionary path \n",
    "dict_path = \".\\Resources\\dict.csv\"\n",
    "\"\"\"\n",
    "CSV must be formatted as\n",
    "word,c0,c1,c2,c3,c4,init_score\n",
    "\"\"\"\n",
    "# Initialize Dictionary\n",
    "origin = pd.read_csv(dict_path)\n",
    "word_pool = origin"
   ]
  },
  {
   "cell_type": "markdown",
   "metadata": {},
   "source": [
    "## Helper functions"
   ]
  },
  {
   "cell_type": "markdown",
   "metadata": {},
   "source": [
    "### Pool Manipulation"
   ]
  },
  {
   "cell_type": "code",
   "execution_count": 1,
   "metadata": {},
   "outputs": [],
   "source": [
    "def remove_letter_from_character(letter,character_space):\n",
    "    \"\"\"\n",
    "    \"\"\"\n",
    "    character = \"c\"+character_space\n",
    "    word_pool[character] = word_pool[character][word_pool[character]!=letter]"
   ]
  },
  {
   "cell_type": "code",
   "execution_count": 2,
   "metadata": {},
   "outputs": [],
   "source": [
    "def not_included_letter(letter):\n",
    "    \"\"\"\n",
    "    \"\"\"\n",
    "    remove_letter_from_character(letter,0)\n",
    "    remove_letter_from_character(letter,1)\n",
    "    remove_letter_from_character(letter,2)\n",
    "    remove_letter_from_character(letter,3)\n",
    "    remove_letter_from_character(letter,4)"
   ]
  },
  {
   "cell_type": "code",
   "execution_count": 3,
   "metadata": {},
   "outputs": [],
   "source": [
    "def set_letter_to_character(letter,character_space):\n",
    "    \"\"\"\n",
    "    \"\"\"\n",
    "    character = \"c\"+character_space\n",
    "    word_pool = word_pool[word_pool[character]==letter]"
   ]
  },
  {
   "cell_type": "code",
   "execution_count": null,
   "metadata": {},
   "outputs": [],
   "source": [
    "def filter_to_include_letter(letter):\n",
    "    \"\"\"\n",
    "    \"\"\"\n",
    "    inC0 = word_pool[0]==letter\n",
    "    inC1 = word_pool[1]==letter\n",
    "    inC2 = word_pool[2]==letter\n",
    "    inC3 = word_pool[3]==letter\n",
    "    inC4 = word_pool[4]==letter\n",
    "    in_word = inC0 or inC1 or inC2 or inC3 or inC4\n",
    "    word_pool = word_pool[in_word]"
   ]
  },
  {
   "cell_type": "markdown",
   "metadata": {},
   "source": [
    "### Guess Evaluation"
   ]
  },
  {
   "cell_type": "code",
   "execution_count": null,
   "metadata": {},
   "outputs": [],
   "source": [
    "def score_pool():\n",
    "    \"\"\"\n",
    "    \"\"\""
   ]
  },
  {
   "cell_type": "markdown",
   "metadata": {},
   "source": [
    "## Running"
   ]
  },
  {
   "cell_type": "markdown",
   "metadata": {},
   "source": [
    "# Data Input\n",
    "not_included = []\n",
    "greens = [()]\n"
   ]
  }
 ],
 "metadata": {
  "interpreter": {
   "hash": "444e24575e928cadbf056ff0aba3d3823bfa6d6b4aee0532e7b07e9907da7cfc"
  },
  "kernelspec": {
   "display_name": "Python 3.7.11 ('base')",
   "language": "python",
   "name": "python3"
  },
  "language_info": {
   "codemirror_mode": {
    "name": "ipython",
    "version": 3
   },
   "file_extension": ".py",
   "mimetype": "text/x-python",
   "name": "python",
   "nbconvert_exporter": "python",
   "pygments_lexer": "ipython3",
   "version": "3.7.11"
  },
  "orig_nbformat": 4
 },
 "nbformat": 4,
 "nbformat_minor": 2
}
